{
  "metadata": {
    "kernelspec": {
      "display_name": "Python",
      "language": "python3",
      "name": "python3"
    },
    "language_info": {
      "codemirror_mode": {
        "name": "ipython",
        "version": 3
      },
      "file_extension": "py",
      "mimetype": "text/x-python",
      "name": "python"
    }
  },
  "nbformat": 4,
  "nbformat_minor": 5,
  "cells": [
    {
      "cell_type": "code",
      "id": "css_setup",
      "metadata": {
        "jupyter": {
          "source_hidden": true
        }
      },
      "source": [
        "import requests\n",
        "from IPython.core.display import HTML\n",
        "HTML(f\"\"\"\n",
        "<style>\n",
        "@import \"https://cdn.jsdelivr.net/npm/bulma@0.9.4/css/bulma.min.css\";\n",
        "</style>\n",
        "\"\"\")"
      ],
      "execution_count": 0,
      "outputs": []
    },
    {
      "cell_type": "markdown",
      "id": "HoDkW1KN3ZM-DwK1z6det",
      "metadata": {},
      "source": [
        "# Assignment 1 - Gaze Estimation\n",
        "This week the exercises are focused on 2 central concepts of machine learning: regression and model complexity.\n",
        "\n",
        "**Learning goals**\n",
        "After this week's exercises, you should be able to:\n",
        "- Train and evaluate linear models with polynomial features.\n",
        "- Reason about the result and reflect upon the model fitting process.\n",
        "- **Notice that this week contains a mandatory assignment!** \n",
        "\n",
        "\n",
        ""
      ]
    }
  ]
}